{
 "cells": [
  {
   "cell_type": "markdown",
   "metadata": {},
   "source": [
    "# Probability"
   ]
  },
  {
   "cell_type": "markdown",
   "metadata": {},
   "source": [
    "## Challenge 1\n",
    "There is a box with 10 white balls, 12 red balls and 8 black balls. Calculate the probability of:\n",
    "* Taking a white ball out.\n",
    "* Taking a white ball on first extraction and a black ball out on second extraction without replacing the first one.\n",
    "* Taking a white ball on first extraction and a black ball out on second extraction replacing the first one.\n",
    "* Taking 3 balls and them being all different colours."
   ]
  },
  {
   "cell_type": "code",
   "execution_count": null,
   "metadata": {
    "vscode": {
     "languageId": "latex"
    }
   },
   "outputs": [],
   "source": [
    "# YOUR CODE HERE\n",
    "W = 10\n",
    "R = 12\n",
    "B = 8\n",
    "Total balls = 30\n",
    "\n",
    "P(W) = 10/30 = 1/3\n",
    "P(W) 1/3 -- P(B no replacement) 8/29 -- 1/3 x 8/29 = 0.09\n",
    "P(W)1/3 -- (P replacement) 8/30 -- 1/3 x 8/30 = 0.08\n",
    "Total combinations:\n",
    "30 = 30! = 30 x 29 x 28 = 10 x 29 x 14 = 4060 Total combinations\n",
    "3 = 3!(30-3)! = 3 x 2 x1 = \n",
    "\n",
    "Favorable combinations = 10/1 x 12/1 x 8/1 = 960\n",
    "P(1W, 1R, 1B) = Favorable / total = 960/4060 = 48/203 = 0.23 "
   ]
  },
  {
   "cell_type": "code",
   "execution_count": 1,
   "metadata": {},
   "outputs": [
    {
     "name": "stdout",
     "output_type": "stream",
     "text": [
      "Total balls: 30\n",
      "Total combinations (drawing 3): 4060\n",
      "Favorable combinations (1W, 1R, 1B): 960\n",
      "Probability: 0.23645320197044334\n",
      "Probability as fraction: 960/4060\n",
      "Simplified probability: 48/203\n"
     ]
    }
   ],
   "source": [
    "# using python - math.comb\n",
    "\n",
    "import math\n",
    "W = 10\n",
    "R = 12\n",
    "B = 8\n",
    "Total_balls = 30\n",
    "\n",
    "#Total combinations of drawing 3 balls from 30\n",
    "total_combinations = math.comb(Total_balls, 3)\n",
    "\n",
    "#Favorable combinations\n",
    "favorable_combinations = math.comb(W, 1) * math.comb(R, 1) * math.comb(B, 1)\n",
    "\n",
    "#Probability\n",
    "probability = favorable_combinations / total_combinations\n",
    "\n",
    "print(f\"Total balls: {Total_balls}\")\n",
    "print(f\"Total combinations (drawing 3): {total_combinations}\")\n",
    "print(f\"Favorable combinations (1W, 1R, 1B): {favorable_combinations}\")\n",
    "print(f\"Probability: {probability}\")\n",
    "print(f\"Probability as fraction: {favorable_combinations}/{total_combinations}\")\n",
    "\n",
    "# To get the simplified fraction\n",
    "from fractions import Fraction\n",
    "simplified_probability = Fraction(favorable_combinations, total_combinations)\n",
    "print(f\"Simplified probability: {simplified_probability}\")"
   ]
  },
  {
   "cell_type": "markdown",
   "metadata": {},
   "source": [
    "## Challenge 2\n",
    "\n",
    "You want to go on picnic on Saturday. You hate rain, and would know to plan your weekend. To help you make a decision, you gather the following data about rainy days:\n",
    "\n",
    "* 40% of all days are cloudy.\n",
    "* About 50% of cloudy days are rainy. \n",
    "* About 20% of non-cloudy days are rainy.\n",
    "\n",
    "What is the chance of rain during next Saturday?"
   ]
  },
  {
   "cell_type": "code",
   "execution_count": 9,
   "metadata": {},
   "outputs": [
    {
     "data": {
      "text/plain": [
       "0.32"
      ]
     },
     "execution_count": 9,
     "metadata": {},
     "output_type": "execute_result"
    }
   ],
   "source": [
    "# YOUR CODE HERE\n",
    "\n",
    "cloudy = 0.40  #P(C)\n",
    "cloudy_rainy = 0.50 #* 0.40 == 0.20  #Cloudy AND rainy\n",
    "non_cloudy = 1 - cloudy  #P(C') == 1 - cloudy\n",
    "non_cloundy_rainy = 0.20 #* 0.60 == 0.12  #Non-cloudy AND rainy\n",
    "\n",
    "prob_cloudy_rainy = cloudy * cloudy_rainy\n",
    "prob_non_cloudy_rainy = non_cloudy * non_cloundy_rainy\n",
    "total_rainy = prob_cloudy_rainy + prob_non_cloudy_rainy   # == 0.32  -> SUM of 2 probabilities of rainy (cloudy and non-cloudy) == 32%\n",
    "total_rainy"
   ]
  },
  {
   "cell_type": "markdown",
   "metadata": {},
   "source": [
    "## Challenge 3\n",
    "\n",
    "A and B are events of a probability such that $P(A) = 0.3$, $P(B) = 0.6$ and $P(A \\cap B) = 0.1$\n",
    "\n",
    "Which of the following statements are true?  \n",
    "**HINT: draw a big Venn Diagram by your side**  \n",
    "* $P(\\overline{A}) = 0.7$\n",
    "* $P(A \\cup B) = 0.6$\n",
    "* $P(A \\cap \\overline{B}) = 0.2$\n",
    "* $P(A \\cup \\overline{A}) = 1$  \n",
    "* $P(A \\cap (B \\cup \\overline{B})) = 0.4$\n",
    "* $P(\\overline{A} \\cap \\overline{B}) = 0.3$\n",
    "* $P(\\overline{A \\cap B}) = 0.9$"
   ]
  },
  {
   "cell_type": "code",
   "execution_count": 16,
   "metadata": {},
   "outputs": [
    {
     "data": {
      "text/plain": [
       "0.2"
      ]
     },
     "execution_count": 16,
     "metadata": {},
     "output_type": "execute_result"
    }
   ],
   "source": [
    "# YOUR CODE HERE\n",
    "P_A = 0.3\n",
    "P_B = 0.6\n",
    "P_A_int_B = 0.1\n",
    "P_A_int_B1 = (P_B - P_A_int_B) - P_A\n",
    "P_A_int_B1"
   ]
  },
  {
   "cell_type": "markdown",
   "metadata": {},
   "source": [
    "## Challenge 4\n",
    "\n",
    " * If someone flies to China, the probability of getting Covid is 1%  \n",
    " * If someone flies to Italy, the probability of getting Covid is 20%  \n",
    "\n",
    "I roll 1 dice with numbers 1, 2, 3, 4, 5, 6:  \n",
    " * If 1: I fly to Italy\n",
    " * If not 1: I fly to China\n",
    "\n",
    "During my trip, I got Covid. What is the probability that I flew to China?"
   ]
  },
  {
   "cell_type": "code",
   "execution_count": null,
   "metadata": {},
   "outputs": [
    {
     "data": {
      "text/plain": [
       "0.2"
      ]
     },
     "execution_count": 18,
     "metadata": {},
     "output_type": "execute_result"
    }
   ],
   "source": [
    "# YOUR CODE HERE\n",
    "C_C = 0.01 #1% chance of getting covid if China\n",
    "C_I = 0.20 #20% of getting covid if Italy\n",
    "F_I = 1/6 #chance to fly to Italy\n",
    "F_C = 5/6 #chance to fly to China\n",
    "\n",
    "C = (C_C * F_C) + (C_I * F_I) #Chance of getting covid\n",
    "C_FC = (C_C * F_C) / C #chance of flying to China / chance of covid\n",
    "C_FC # 20%\n"
   ]
  },
  {
   "cell_type": "markdown",
   "metadata": {},
   "source": [
    "## BONUS\n",
    "\n",
    "You roll 2 dice. What is the probability that the sum of the numbers is 7? And 8? And 9? Then simulate 10000 times and draw a countplot."
   ]
  },
  {
   "cell_type": "markdown",
   "metadata": {},
   "source": [
    "your explanation here"
   ]
  },
  {
   "cell_type": "code",
   "execution_count": null,
   "metadata": {},
   "outputs": [],
   "source": [
    "# YOUR CODE HERE"
   ]
  }
 ],
 "metadata": {
  "kernelspec": {
   "display_name": "Python 3",
   "language": "python",
   "name": "python3"
  },
  "language_info": {
   "codemirror_mode": {
    "name": "ipython",
    "version": 3
   },
   "file_extension": ".py",
   "mimetype": "text/x-python",
   "name": "python",
   "nbconvert_exporter": "python",
   "pygments_lexer": "ipython3",
   "version": "3.13.3"
  },
  "toc": {
   "base_numbering": 1,
   "nav_menu": {},
   "number_sections": false,
   "sideBar": true,
   "skip_h1_title": false,
   "title_cell": "Table of Contents",
   "title_sidebar": "Contents",
   "toc_cell": false,
   "toc_position": {
    "height": "calc(100% - 180px)",
    "left": "10px",
    "top": "150px",
    "width": "296.475px"
   },
   "toc_section_display": true,
   "toc_window_display": false
  },
  "varInspector": {
   "cols": {
    "lenName": 16,
    "lenType": 16,
    "lenVar": 40
   },
   "kernels_config": {
    "python": {
     "delete_cmd_postfix": "",
     "delete_cmd_prefix": "del ",
     "library": "var_list.py",
     "varRefreshCmd": "print(var_dic_list())"
    },
    "r": {
     "delete_cmd_postfix": ") ",
     "delete_cmd_prefix": "rm(",
     "library": "var_list.r",
     "varRefreshCmd": "cat(var_dic_list()) "
    }
   },
   "types_to_exclude": [
    "module",
    "function",
    "builtin_function_or_method",
    "instance",
    "_Feature"
   ],
   "window_display": false
  }
 },
 "nbformat": 4,
 "nbformat_minor": 2
}
